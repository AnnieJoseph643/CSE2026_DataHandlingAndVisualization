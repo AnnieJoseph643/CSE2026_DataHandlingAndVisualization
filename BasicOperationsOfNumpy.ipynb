{
  "nbformat": 4,
  "nbformat_minor": 0,
  "metadata": {
    "colab": {
      "provenance": []
    },
    "kernelspec": {
      "name": "python3",
      "display_name": "Python 3"
    },
    "language_info": {
      "name": "python"
    }
  },
  "cells": [
    {
      "cell_type": "markdown",
      "source": [
        "### 1. Make a 1D, 2D, 3D array and check shape,size,dimensions and length"
      ],
      "metadata": {
        "id": "5bo94AYE2w_x"
      }
    },
    {
      "cell_type": "code",
      "execution_count": 2,
      "metadata": {
        "id": "PUmG-FRm2PGx"
      },
      "outputs": [],
      "source": [
        "import numpy as np"
      ]
    },
    {
      "cell_type": "code",
      "source": [
        "arr_1D=np.array([1,2,3,4,5,6,7,8,9,10])\n",
        "print(\"1D array:\",arr_1D)\n",
        "arr_2D=np.array([[1,2,3],[4,5,6]])\n",
        "print(\"2D array:\",arr_2D)\n",
        "arr_3D=np.array([[[10,20], [30,40], [50,60], [70,80]]])\n",
        "print(\"3D array:\",arr_3D)"
      ],
      "metadata": {
        "colab": {
          "base_uri": "https://localhost:8080/"
        },
        "id": "qN6kKk7d3P9w",
        "outputId": "7a224ec4-0b19-443e-ba19-88defd2e01a8"
      },
      "execution_count": null,
      "outputs": [
        {
          "output_type": "stream",
          "name": "stdout",
          "text": [
            "1D array: [ 1  2  3  4  5  6  7  8  9 10]\n",
            "2D array: [[1 2 3]\n",
            " [4 5 6]]\n",
            "3D array: [[[10 20]\n",
            "  [30 40]\n",
            "  [50 60]\n",
            "  [70 80]]]\n"
          ]
        }
      ]
    },
    {
      "cell_type": "code",
      "source": [
        "#Shape of arrays\n",
        "arr_1D.shape"
      ],
      "metadata": {
        "colab": {
          "base_uri": "https://localhost:8080/"
        },
        "id": "z4l_GBTT45Ms",
        "outputId": "8ae930a7-ae4c-4fdc-bb5d-d4bc591b5b4f"
      },
      "execution_count": null,
      "outputs": [
        {
          "output_type": "execute_result",
          "data": {
            "text/plain": [
              "(10,)"
            ]
          },
          "metadata": {},
          "execution_count": 7
        }
      ]
    },
    {
      "cell_type": "code",
      "source": [
        "arr_2D.shape"
      ],
      "metadata": {
        "colab": {
          "base_uri": "https://localhost:8080/"
        },
        "id": "J_T9G0Wb5B3f",
        "outputId": "71d6d15a-6ae1-4008-c51f-4de888c0c0e7"
      },
      "execution_count": null,
      "outputs": [
        {
          "output_type": "execute_result",
          "data": {
            "text/plain": [
              "(2, 3)"
            ]
          },
          "metadata": {},
          "execution_count": 8
        }
      ]
    },
    {
      "cell_type": "code",
      "source": [
        "arr_3D.shape"
      ],
      "metadata": {
        "colab": {
          "base_uri": "https://localhost:8080/"
        },
        "id": "_WtzmNX25VWg",
        "outputId": "c826153c-93a0-44e2-b122-a36ff17f3340"
      },
      "execution_count": null,
      "outputs": [
        {
          "output_type": "execute_result",
          "data": {
            "text/plain": [
              "(1, 4, 2)"
            ]
          },
          "metadata": {},
          "execution_count": 9
        }
      ]
    },
    {
      "cell_type": "code",
      "source": [
        "#size of each array\n",
        "arr_1D.size"
      ],
      "metadata": {
        "colab": {
          "base_uri": "https://localhost:8080/"
        },
        "id": "jxJco6Ek5Y4h",
        "outputId": "99588173-73af-4482-ded7-d5eeede876fa"
      },
      "execution_count": null,
      "outputs": [
        {
          "output_type": "execute_result",
          "data": {
            "text/plain": [
              "10"
            ]
          },
          "metadata": {},
          "execution_count": 10
        }
      ]
    },
    {
      "cell_type": "code",
      "source": [
        "arr_2D.size"
      ],
      "metadata": {
        "colab": {
          "base_uri": "https://localhost:8080/"
        },
        "id": "qzb6q9wp5lh3",
        "outputId": "b0052c5f-3b9b-49c1-cc1e-7f7936c1f8a0"
      },
      "execution_count": null,
      "outputs": [
        {
          "output_type": "execute_result",
          "data": {
            "text/plain": [
              "6"
            ]
          },
          "metadata": {},
          "execution_count": 12
        }
      ]
    },
    {
      "cell_type": "code",
      "source": [
        "arr_3D.size"
      ],
      "metadata": {
        "colab": {
          "base_uri": "https://localhost:8080/"
        },
        "id": "54okRnkt5nh3",
        "outputId": "70848a9a-c74a-495e-851c-1975aaa665d0"
      },
      "execution_count": null,
      "outputs": [
        {
          "output_type": "execute_result",
          "data": {
            "text/plain": [
              "8"
            ]
          },
          "metadata": {},
          "execution_count": 13
        }
      ]
    },
    {
      "cell_type": "code",
      "source": [
        "#dimension of each array\n",
        "arr_1D.ndim"
      ],
      "metadata": {
        "colab": {
          "base_uri": "https://localhost:8080/"
        },
        "id": "27p2dKDr5tX0",
        "outputId": "5ace6d7f-730c-4ea0-f7f2-b7c64dd2e2b1"
      },
      "execution_count": null,
      "outputs": [
        {
          "output_type": "execute_result",
          "data": {
            "text/plain": [
              "1"
            ]
          },
          "metadata": {},
          "execution_count": 15
        }
      ]
    },
    {
      "cell_type": "code",
      "source": [
        "arr_2D.ndim"
      ],
      "metadata": {
        "colab": {
          "base_uri": "https://localhost:8080/"
        },
        "id": "93TcN3Wc534P",
        "outputId": "cff9b29f-8511-4266-a850-0d381489d089"
      },
      "execution_count": null,
      "outputs": [
        {
          "output_type": "execute_result",
          "data": {
            "text/plain": [
              "2"
            ]
          },
          "metadata": {},
          "execution_count": 16
        }
      ]
    },
    {
      "cell_type": "code",
      "source": [
        "arr_3D.ndim"
      ],
      "metadata": {
        "colab": {
          "base_uri": "https://localhost:8080/"
        },
        "id": "n4Ek_zY46Icn",
        "outputId": "a0f78af9-3819-44e9-e320-1a74d617f92e"
      },
      "execution_count": null,
      "outputs": [
        {
          "output_type": "execute_result",
          "data": {
            "text/plain": [
              "3"
            ]
          },
          "metadata": {},
          "execution_count": 17
        }
      ]
    },
    {
      "cell_type": "code",
      "source": [
        "#length of each array\n",
        "len(arr_1D)"
      ],
      "metadata": {
        "colab": {
          "base_uri": "https://localhost:8080/"
        },
        "id": "ZKc7tDbi6Kln",
        "outputId": "389505b7-b517-4045-d6ef-ce529213b558"
      },
      "execution_count": null,
      "outputs": [
        {
          "output_type": "execute_result",
          "data": {
            "text/plain": [
              "10"
            ]
          },
          "metadata": {},
          "execution_count": 19
        }
      ]
    },
    {
      "cell_type": "code",
      "source": [
        "len(arr_2D)"
      ],
      "metadata": {
        "colab": {
          "base_uri": "https://localhost:8080/"
        },
        "id": "VLW2VSZ96VpI",
        "outputId": "967ad2ed-cbb6-430a-ec47-0aafeaa2e2e0"
      },
      "execution_count": null,
      "outputs": [
        {
          "output_type": "execute_result",
          "data": {
            "text/plain": [
              "2"
            ]
          },
          "metadata": {},
          "execution_count": 20
        }
      ]
    },
    {
      "cell_type": "code",
      "source": [
        "len(arr_3D)"
      ],
      "metadata": {
        "colab": {
          "base_uri": "https://localhost:8080/"
        },
        "id": "JGBQfwia6pUP",
        "outputId": "e11708b2-47f5-4f2e-9273-de172141b07e"
      },
      "execution_count": null,
      "outputs": [
        {
          "output_type": "execute_result",
          "data": {
            "text/plain": [
              "1"
            ]
          },
          "metadata": {},
          "execution_count": 21
        }
      ]
    },
    {
      "cell_type": "markdown",
      "source": [
        "# 2.Write Example for each of the following"
      ],
      "metadata": {
        "id": "c-KTMQ2P6vJ_"
      }
    },
    {
      "cell_type": "markdown",
      "source": [
        "### i.Arange"
      ],
      "metadata": {
        "id": "Cd-qHOWF61on"
      }
    },
    {
      "cell_type": "code",
      "source": [
        "arr=np.arange(0,20,2)\n",
        "print(arr)"
      ],
      "metadata": {
        "colab": {
          "base_uri": "https://localhost:8080/"
        },
        "id": "BRoF2fZ-6rCG",
        "outputId": "e26b30d4-d0ba-47bb-ede4-3a93e1ea5538"
      },
      "execution_count": null,
      "outputs": [
        {
          "output_type": "stream",
          "name": "stdout",
          "text": [
            "[ 0  2  4  6  8 10 12 14 16 18]\n"
          ]
        }
      ]
    },
    {
      "cell_type": "markdown",
      "source": [
        "### ii.Random.rand and random.randint"
      ],
      "metadata": {
        "id": "UWUYVb7N7MNz"
      }
    },
    {
      "cell_type": "code",
      "source": [
        "arr1=np.random.rand(10)\n",
        "print(arr1)\n",
        "arr2=np.random.randint(3,5)\n",
        "print(arr2)"
      ],
      "metadata": {
        "colab": {
          "base_uri": "https://localhost:8080/"
        },
        "id": "s-pFi3QT7HOD",
        "outputId": "7e23a181-2d5e-44ad-ecba-53f0a12ee85f"
      },
      "execution_count": null,
      "outputs": [
        {
          "output_type": "stream",
          "name": "stdout",
          "text": [
            "[0.56473794 0.88209711 0.64583071 0.37699488 0.25101706 0.57363007\n",
            " 0.3391078  0.51247104 0.19133349 0.08882085]\n",
            "4\n"
          ]
        }
      ]
    },
    {
      "cell_type": "markdown",
      "source": [
        "### iii.Linespace"
      ],
      "metadata": {
        "id": "uHswdgxo8B-Q"
      }
    },
    {
      "cell_type": "code",
      "source": [
        "np.linspace(2.0, 3.0, num=5)"
      ],
      "metadata": {
        "colab": {
          "base_uri": "https://localhost:8080/"
        },
        "id": "wWPp4QVR7yxn",
        "outputId": "5f2956ee-80ab-4481-f0a7-8446e51b4b8a"
      },
      "execution_count": null,
      "outputs": [
        {
          "output_type": "execute_result",
          "data": {
            "text/plain": [
              "array([2.  , 2.25, 2.5 , 2.75, 3.  ])"
            ]
          },
          "metadata": {},
          "execution_count": 24
        }
      ]
    },
    {
      "cell_type": "markdown",
      "source": [
        "### iv.Ones"
      ],
      "metadata": {
        "id": "I1-WqJmN8cCA"
      }
    },
    {
      "cell_type": "code",
      "source": [
        "np.ones(5)"
      ],
      "metadata": {
        "colab": {
          "base_uri": "https://localhost:8080/"
        },
        "id": "8TPKu8uG8jWA",
        "outputId": "c5b59379-3fbd-43e7-f309-dbf212ecfd15"
      },
      "execution_count": null,
      "outputs": [
        {
          "output_type": "execute_result",
          "data": {
            "text/plain": [
              "array([1., 1., 1., 1., 1.])"
            ]
          },
          "metadata": {},
          "execution_count": 25
        }
      ]
    },
    {
      "cell_type": "markdown",
      "source": [
        "### v.Zeros"
      ],
      "metadata": {
        "id": "dLl_R-YB8oXH"
      }
    },
    {
      "cell_type": "code",
      "source": [
        "np.zeros(5)"
      ],
      "metadata": {
        "colab": {
          "base_uri": "https://localhost:8080/"
        },
        "id": "oZ-_VeE-8oDf",
        "outputId": "9495ec7b-58b8-4aba-a8f6-180fe531ea98"
      },
      "execution_count": null,
      "outputs": [
        {
          "output_type": "execute_result",
          "data": {
            "text/plain": [
              "array([0., 0., 0., 0., 0.])"
            ]
          },
          "metadata": {},
          "execution_count": 27
        }
      ]
    },
    {
      "cell_type": "markdown",
      "source": [
        "vi. Diag"
      ],
      "metadata": {
        "id": "3BbEtJwz8xjP"
      }
    },
    {
      "cell_type": "code",
      "source": [
        "np.diag(arr_2D)"
      ],
      "metadata": {
        "colab": {
          "base_uri": "https://localhost:8080/"
        },
        "id": "wYqPw30c8kRA",
        "outputId": "f9c161a6-cc63-4697-8c34-09982d2f351a"
      },
      "execution_count": null,
      "outputs": [
        {
          "output_type": "execute_result",
          "data": {
            "text/plain": [
              "array([1, 5])"
            ]
          },
          "metadata": {},
          "execution_count": 28
        }
      ]
    },
    {
      "cell_type": "markdown",
      "source": [
        "### vii.sum"
      ],
      "metadata": {
        "id": "LE4L81lR9Gg4"
      }
    },
    {
      "cell_type": "code",
      "source": [
        "np.sum([0.5, 1.5])"
      ],
      "metadata": {
        "colab": {
          "base_uri": "https://localhost:8080/"
        },
        "id": "GcDPbBEC9SkS",
        "outputId": "3413d127-05fd-4c46-ffdf-f7c185ecff67"
      },
      "execution_count": null,
      "outputs": [
        {
          "output_type": "execute_result",
          "data": {
            "text/plain": [
              "2.0"
            ]
          },
          "metadata": {},
          "execution_count": 29
        }
      ]
    },
    {
      "cell_type": "markdown",
      "source": [
        "### viii.Min"
      ],
      "metadata": {
        "id": "wnfgstG69a6L"
      }
    },
    {
      "cell_type": "code",
      "source": [
        "np.min(arr_3D)"
      ],
      "metadata": {
        "colab": {
          "base_uri": "https://localhost:8080/"
        },
        "id": "Ij5aqcYA9d0I",
        "outputId": "294270ab-a687-438d-9313-d3a422105e60"
      },
      "execution_count": null,
      "outputs": [
        {
          "output_type": "execute_result",
          "data": {
            "text/plain": [
              "10"
            ]
          },
          "metadata": {},
          "execution_count": 30
        }
      ]
    },
    {
      "cell_type": "markdown",
      "source": [
        "### viii.Max"
      ],
      "metadata": {
        "id": "DE5ULQlk9oqX"
      }
    },
    {
      "cell_type": "code",
      "source": [
        "np.max(arr_1D)"
      ],
      "metadata": {
        "colab": {
          "base_uri": "https://localhost:8080/"
        },
        "id": "lnLkjIH19oY4",
        "outputId": "686a42b9-ae75-4f4c-fde9-4276058e2566"
      },
      "execution_count": null,
      "outputs": [
        {
          "output_type": "execute_result",
          "data": {
            "text/plain": [
              "10"
            ]
          },
          "metadata": {},
          "execution_count": 32
        }
      ]
    },
    {
      "cell_type": "markdown",
      "source": [
        "### ix.Mean"
      ],
      "metadata": {
        "id": "JA12tOF59yeY"
      }
    },
    {
      "cell_type": "code",
      "source": [
        "a = np.array([[1, 2], [3, 4]])\n",
        "np.mean(a)"
      ],
      "metadata": {
        "colab": {
          "base_uri": "https://localhost:8080/"
        },
        "id": "v3ugQrEO9uPK",
        "outputId": "51e8ff11-7197-471b-b34f-2866dea51370"
      },
      "execution_count": null,
      "outputs": [
        {
          "output_type": "execute_result",
          "data": {
            "text/plain": [
              "2.5"
            ]
          },
          "metadata": {},
          "execution_count": 33
        }
      ]
    },
    {
      "cell_type": "markdown",
      "source": [
        "### 3. Make an array of student marks of a course(generate random marks).Assume fail criteria is less than 30. find number of students passed and filter failed marks"
      ],
      "metadata": {
        "id": "Cj2Z_C4F98G_"
      }
    },
    {
      "cell_type": "code",
      "source": [
        "np.random.seed(42)\n",
        "student_marks = np.random.randint(0, 101, size=50)\n",
        "\n",
        "\n",
        "passing_marks = student_marks >= 30\n",
        "num_students_passed = np.sum(passing_marks)\n",
        "print(\"Number of students passed:\", num_students_passed)\n",
        "\n",
        "failed_marks = student_marks[student_marks < 30]\n",
        "print(\"Failed marks:\",failed_marks)"
      ],
      "metadata": {
        "id": "zosZSTDX97SH",
        "colab": {
          "base_uri": "https://localhost:8080/"
        },
        "outputId": "be257eb1-81b1-4678-e0b0-fc2872d37319"
      },
      "execution_count": 3,
      "outputs": [
        {
          "output_type": "stream",
          "name": "stdout",
          "text": [
            "Number of students passed: 36\n",
            "Failed marks: [14 20 23  2 21  1 29  1 20 21 14  2  6 20]\n"
          ]
        }
      ]
    },
    {
      "cell_type": "markdown",
      "source": [
        "### 4. Make a 2D array with random numbers between 1 and 50"
      ],
      "metadata": {
        "id": "iTWCdlkh_r1A"
      }
    },
    {
      "cell_type": "code",
      "source": [
        "new_array = np.random.randint(50, size=(3, 5))\n",
        "print(new_array)"
      ],
      "metadata": {
        "colab": {
          "base_uri": "https://localhost:8080/"
        },
        "id": "KvmruGFu_0eQ",
        "outputId": "546b8a1e-9960-4d7f-9ea8-90d297d85e80"
      },
      "execution_count": null,
      "outputs": [
        {
          "output_type": "stream",
          "name": "stdout",
          "text": [
            "[[13 27 31 41 31]\n",
            " [ 0 30 11 40 37]\n",
            " [16  7  9 27 28]]\n"
          ]
        }
      ]
    },
    {
      "cell_type": "markdown",
      "source": [
        "### 5. Make a numpy array for all odd numbers between -30 and 10"
      ],
      "metadata": {
        "id": "prA7ZoVQAPnS"
      }
    },
    {
      "cell_type": "code",
      "source": [
        "odd_numbers = np.arange(-29, 11, 2)\n",
        "print(\"Array of odd numbers between -30 and 10:\")\n",
        "print(odd_numbers)"
      ],
      "metadata": {
        "colab": {
          "base_uri": "https://localhost:8080/"
        },
        "id": "3vf5GOmWAPRj",
        "outputId": "affa79d5-3511-4f23-e211-fd2796b65d6d"
      },
      "execution_count": 4,
      "outputs": [
        {
          "output_type": "stream",
          "name": "stdout",
          "text": [
            "Array of odd numbers between -30 and 10:\n",
            "[-29 -27 -25 -23 -21 -19 -17 -15 -13 -11  -9  -7  -5  -3  -1   1   3   5\n",
            "   7   9]\n"
          ]
        }
      ]
    },
    {
      "cell_type": "code",
      "source": [],
      "metadata": {
        "id": "q48APxRXAv96"
      },
      "execution_count": null,
      "outputs": []
    }
  ]
}