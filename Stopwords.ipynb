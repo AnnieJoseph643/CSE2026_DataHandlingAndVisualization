{
  "nbformat": 4,
  "nbformat_minor": 0,
  "metadata": {
    "colab": {
      "provenance": []
    },
    "kernelspec": {
      "name": "python3",
      "display_name": "Python 3"
    },
    "language_info": {
      "name": "python"
    }
  },
  "cells": [
    {
      "cell_type": "code",
      "execution_count": 3,
      "metadata": {
        "colab": {
          "base_uri": "https://localhost:8080/"
        },
        "id": "otaMWmDK36Pk",
        "outputId": "46d7903a-1cf3-4488-c361-2243047ff7ab"
      },
      "outputs": [
        {
          "output_type": "stream",
          "name": "stderr",
          "text": [
            "[nltk_data] Downloading package punkt to /root/nltk_data...\n",
            "[nltk_data]   Unzipping tokenizers/punkt.zip.\n",
            "[nltk_data] Downloading package stopwords to /root/nltk_data...\n",
            "[nltk_data]   Unzipping corpora/stopwords.zip.\n"
          ]
        },
        {
          "output_type": "execute_result",
          "data": {
            "text/plain": [
              "True"
            ]
          },
          "metadata": {},
          "execution_count": 3
        }
      ],
      "source": [
        "import nltk\n",
        "from nltk.corpus import stopwords\n",
        "from nltk.tokenize import word_tokenize\n",
        "nltk.download('punkt')\n",
        "nltk.download('stopwords')"
      ]
    },
    {
      "cell_type": "code",
      "source": [
        "def remove_stop_words(string):\n",
        "  stop_words=set(stopwords.words('english'))\n",
        "  words=string.split()\n",
        "  filtered_words=[word for word in words if word.lower() not in stop_words]\n",
        "  new_string=''.join(filtered_words)\n",
        "  return new_string"
      ],
      "metadata": {
        "id": "poMcGT8l446U"
      },
      "execution_count": 4,
      "outputs": []
    },
    {
      "cell_type": "code",
      "source": [
        "input_string=\"This is an example sentence to remove stop words from\"\n",
        "result= remove_stop_words(input_string)\n",
        "print(\"Original String: \", input_string)\n",
        "print(\"Modified_String: \", result)"
      ],
      "metadata": {
        "colab": {
          "base_uri": "https://localhost:8080/"
        },
        "id": "tbdAvzB75uEC",
        "outputId": "3fff98a0-cfc4-4985-9de0-28990fc2ea75"
      },
      "execution_count": 5,
      "outputs": [
        {
          "output_type": "stream",
          "name": "stdout",
          "text": [
            "Original String:  This is an example sentence to remove stop words from\n",
            "Modified_String:  examplesentenceremovestopwords\n"
          ]
        }
      ]
    },
    {
      "cell_type": "code",
      "source": [
        "x=\"Jo March, a teacher in New York City, goes to Mr. Dashwood, an editor who agrees to publish a story she has written. Her youngest sister, Amy, who is in Paris with their Aunt March, attends a party with their childhood friend and neighbor, Laurie. Amy becomes angry at Laurie's drunken behavior, prompting him to mock her for spending time with wealthy businessman Fred Vaughn. Jo becomes hurt when Friedrich Bhaer, a professor interested in her, gives critical feedback on her writing, angering her. After learning from a letter that her younger sister Beth's illness has worsened, Jo returns home to Concord, Massachusetts.\"\n",
        "word_tokens = word_tokenize(x)\n",
        "stopwords_x = [w for w in word_tokens if w in stopwords.words('english')]\n",
        "print(len(stopwords_x))\n",
        "print(len(word_tokens))"
      ],
      "metadata": {
        "colab": {
          "base_uri": "https://localhost:8080/"
        },
        "id": "BWnjMAmQ-7lb",
        "outputId": "a34c1e16-c32c-472d-f2d2-92d9d6217908"
      },
      "execution_count": 6,
      "outputs": [
        {
          "output_type": "stream",
          "name": "stdout",
          "text": [
            "37\n",
            "123\n"
          ]
        }
      ]
    },
    {
      "cell_type": "code",
      "source": [
        "print()stopwords_x"
      ],
      "metadata": {
        "colab": {
          "base_uri": "https://localhost:8080/"
        },
        "id": "rOpn1ApoBhly",
        "outputId": "4d810448-359a-4958-ca7f-a9d78c16e43b"
      },
      "execution_count": 7,
      "outputs": [
        {
          "output_type": "stream",
          "name": "stdout",
          "text": [
            "['a', 'in', 'to', 'an', 'who', 'to', 'a', 'she', 'has', 'who', 'is', 'in', 'with', 'their', 'a', 'with', 'their', 'and', 'at', 'him', 'to', 'her', 'for', 'with', 'when', 'a', 'in', 'her', 'on', 'her', 'her', 'from', 'a', 'that', 'her', 'has', 'to']\n"
          ]
        }
      ]
    },
    {
      "cell_type": "code",
      "source": [
        "num_stopwords=[]\n",
        "for word in stopwords_x:\n",
        "    num_stopwords.append(stopwords_x.count(word))\n",
        "print(num_stopwords)"
      ],
      "metadata": {
        "colab": {
          "base_uri": "https://localhost:8080/"
        },
        "id": "W2VZnVESDfJN",
        "outputId": "17a07b1e-78e1-4747-fbb1-077d99aef702"
      },
      "execution_count": 11,
      "outputs": [
        {
          "output_type": "stream",
          "name": "stdout",
          "text": [
            "[5, 3, 4, 1, 2, 4, 5, 1, 2, 2, 1, 3, 3, 2, 5, 3, 2, 1, 1, 1, 4, 5, 1, 3, 1, 5, 3, 5, 1, 5, 5, 1, 5, 1, 5, 2, 4]\n"
          ]
        }
      ]
    },
    {
      "cell_type": "code",
      "source": [
        "import matplotlib.pyplot as plt\n",
        "\n",
        "plt.bar(stopwords_x, num_stopwords)\n",
        "plt.xlabel('Stopwords')\n",
        "plt.xticks(rotation=90)\n",
        "plt.ylabel('Repetition')\n",
        "plt.title(\"Number of stopwords\")\n",
        "plt.show()\n",
        ""
      ],
      "metadata": {
        "colab": {
          "base_uri": "https://localhost:8080/",
          "height": 495
        },
        "id": "JVrWPZ-uDwzU",
        "outputId": "389f35f2-5c57-43fc-8c06-5ef9f1d5ceca"
      },
      "execution_count": 13,
      "outputs": [
        {
          "output_type": "display_data",
          "data": {
            "text/plain": [
              "<Figure size 640x480 with 1 Axes>"
            ],
            "image/png": "[encoded data removed]"
          },
          "metadata": {}
        }
      ]
    }
  ]
}